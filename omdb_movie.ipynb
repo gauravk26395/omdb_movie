{
 "cells": [
  {
   "cell_type": "markdown",
   "metadata": {},
   "source": [
    "## This program is to provide the user with higher rating movie from his movies folder and then delete that movie and give the preliminary movie on next search "
   ]
  },
  {
   "cell_type": "code",
   "execution_count": 1,
   "metadata": {},
   "outputs": [],
   "source": [
    "import requests\n",
    "import os\n",
    "import json"
   ]
  },
  {
   "cell_type": "code",
   "execution_count": null,
   "metadata": {},
   "outputs": [],
   "source": [
    "f={}\n",
    "sorted_movie={}\n",
    "path = '/home/gaurav/Downloads/movie'# movie folder name\n",
    "dir_list = os.listdir(path) # to list all the movie folder name\n",
    "for i in dir_list:\n",
    "    url='http://www.omdbapi.com/?t='\n",
    "    movie_name=i\n",
    "    apikey='7f63717b' # omdb personal api\n",
    "    url_merge=url+movie_name+'&apikey='+apikey\n",
    "    data=requests.get(url_merge)\n",
    "    content=json.loads(data.text) # convert string to jason file\n",
    "    rating=content['Ratings'][0]['Value'] #extracting the movie name\n",
    "    f.update({movie_name:rating})# add movie name in directory with rating\n",
    "\n",
    "a1_sorted_keys = sorted(f, key=f.get, reverse=True) # sort  the movie rating in decending order\n",
    "for r in a1_sorted_keys:\n",
    "    sorted_movie.update({r:f[r]})\n",
    "print(\"display the movie folder\")    \n",
    "print( sorted_movie)"
   ]
  },
  {
   "cell_type": "code",
   "execution_count": null,
   "metadata": {},
   "outputs": [],
   "source": [
    "j=1\n",
    "for i in sorted_movie:\n",
    "    if(j==1):\n",
    "        moviename=i\n",
    "        print('The movie which is to watch is' moviename)\n",
    "        w=r'/home/gaurav/Downloads/gauravv'\n",
    "        os.rmdir(w+'/'+i) \n",
    "        moviename=moviename-1 "
   ]
  },
  {
   "cell_type": "code",
   "execution_count": null,
   "metadata": {},
   "outputs": [],
   "source": [
    "del sortedmovie[moviename] # to delete the movie name which has been watched\n"
   ]
  },
  {
   "cell_type": "code",
   "execution_count": null,
   "metadata": {},
   "outputs": [],
   "source": [
    "os.chdir('/home/gaurav')\n",
    "f= open(\"gaurav.txt\",\"w+\")\n",
    "f.write(moviename)\n",
    "f.close()"
   ]
  }
 ],
 "metadata": {
  "kernelspec": {
   "display_name": "Python 3",
   "language": "python",
   "name": "python3"
  },
  "language_info": {
   "codemirror_mode": {
    "name": "ipython",
    "version": 2
   },
   "file_extension": ".py",
   "mimetype": "text/x-python",
   "name": "python",
   "nbconvert_exporter": "python",
   "pygments_lexer": "ipython2",
   "version": "2.7.12"
  }
 },
 "nbformat": 4,
 "nbformat_minor": 2
}
